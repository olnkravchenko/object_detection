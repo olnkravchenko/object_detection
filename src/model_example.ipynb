{
 "cells": [
  {
   "cell_type": "code",
   "execution_count": null,
   "id": "db14077e",
   "metadata": {
    "ExecuteTime": {
     "end_time": "2024-11-19T15:28:05.315581Z",
     "start_time": "2024-11-19T15:28:03.810225Z"
    },
    "colab": {
     "base_uri": "https://localhost:8080/"
    },
    "executionInfo": {
     "elapsed": 10406,
     "status": "ok",
     "timestamp": 1721401307695,
     "user": {
      "displayName": "Vitaliy Bulygin",
      "userId": "12051646707039759689"
     },
     "user_tz": -180
    },
    "id": "db14077e",
    "outputId": "6e1b8c86-9a66-4b1c-f3af-79043d979747"
   },
   "outputs": [],
   "source": [
    "import torchvision\n",
    "import numpy as np\n",
    "from matplotlib import pyplot as plt\n",
    "import torchvision.transforms.v2 as transforms\n",
    "import torch\n",
    "from torchsummary import summary\n",
    "from datasets.dataset import DatasetIterator\n",
    "\n",
    "from datasets.encoders import CenternetEncoder\n",
    "from core.model_builder import ModelBuilder\n",
    "from utils.visualizer import get_image_with_bboxes\n",
    "\n",
    "%load_ext autoreload\n",
    "%autoreload 2\n",
    "\n",
    "print(\"GPU is available: \", torch.cuda.is_available())"
   ]
  },
  {
   "cell_type": "markdown",
   "id": "ba0e79cc",
   "metadata": {},
   "source": [
    "### Load Dataset"
   ]
  },
  {
   "cell_type": "code",
   "execution_count": null,
   "id": "5GfETpZOg3BV",
   "metadata": {
    "ExecuteTime": {
     "end_time": "2024-11-19T15:23:43.146549Z",
     "start_time": "2024-11-19T15:23:43.103574Z"
    },
    "executionInfo": {
     "elapsed": 2,
     "status": "ok",
     "timestamp": 1721401307695,
     "user": {
      "displayName": "Vitaliy Bulygin",
      "userId": "12051646707039759689"
     },
     "user_tz": -180
    },
    "id": "5GfETpZOg3BV"
   },
   "outputs": [],
   "source": [
    "input_height = input_width = 256\n",
    "down_ratio = 4  # model output compared to model input"
   ]
  },
  {
   "cell_type": "code",
   "execution_count": null,
   "id": "2107803b",
   "metadata": {
    "ExecuteTime": {
     "end_time": "2024-11-19T15:26:57.769628Z",
     "start_time": "2024-11-19T15:23:58.650841Z"
    },
    "colab": {
     "base_uri": "https://localhost:8080/"
    },
    "executionInfo": {
     "elapsed": 2570,
     "status": "ok",
     "timestamp": 1721401310263,
     "user": {
      "displayName": "Vitaliy Bulygin",
      "userId": "12051646707039759689"
     },
     "user_tz": -180
    },
    "id": "2107803b",
    "outputId": "83dfd4f9-c621-4d30-8eb4-89acc6818b36"
   },
   "outputs": [],
   "source": [
    "dataset_val = torchvision.datasets.VOCDetection(\n",
    "    root=\"../tmp/VOC\", year=\"2007\", image_set=\"val\", download=False\n",
    ")\n",
    "\n",
    "dataset_val = torchvision.datasets.wrap_dataset_for_transforms_v2(dataset_val)\n",
    "\n",
    "print(len(dataset_val))"
   ]
  },
  {
   "cell_type": "code",
   "execution_count": null,
   "id": "nZ3Ik7-anz5H",
   "metadata": {
    "colab": {
     "base_uri": "https://localhost:8080/"
    },
    "executionInfo": {
     "elapsed": 52901,
     "status": "ok",
     "timestamp": 1721401363163,
     "user": {
      "displayName": "Vitaliy Bulygin",
      "userId": "12051646707039759689"
     },
     "user_tz": -180
    },
    "id": "nZ3Ik7-anz5H",
    "outputId": "5f853ff9-c481-4776-987d-e0c59d1f9eb6"
   },
   "outputs": [],
   "source": [
    "img, lbl = dataset_val[2000]\n",
    "img, lbl"
   ]
  },
  {
   "cell_type": "code",
   "execution_count": null,
   "id": "7002436d",
   "metadata": {
    "colab": {
     "base_uri": "https://localhost:8080/",
     "height": 452
    },
    "executionInfo": {
     "elapsed": 2412,
     "status": "ok",
     "timestamp": 1721401365573,
     "user": {
      "displayName": "Vitaliy Bulygin",
      "userId": "12051646707039759689"
     },
     "user_tz": -180
    },
    "id": "7002436d",
    "outputId": "a625aa0d-0214-4d0f-e190-dd1725d7b9a9"
   },
   "outputs": [],
   "source": [
    "image_with_boxes = get_image_with_bboxes(img, lbl[\"boxes\"], lbl[\"labels\"])\n",
    "plt.imshow(image_with_boxes)"
   ]
  },
  {
   "cell_type": "markdown",
   "id": "ae8ca17c",
   "metadata": {},
   "source": [
    "### Apply Encoding and Transformations"
   ]
  },
  {
   "cell_type": "code",
   "execution_count": null,
   "id": "e6a7dcab",
   "metadata": {
    "colab": {
     "base_uri": "https://localhost:8080/"
    },
    "executionInfo": {
     "elapsed": 7,
     "status": "ok",
     "timestamp": 1721401367312,
     "user": {
      "displayName": "Vitaliy Bulygin",
      "userId": "12051646707039759689"
     },
     "user_tz": -180
    },
    "id": "e6a7dcab",
    "outputId": "87542e1f-238f-48d8-90f0-eb54a00fedb1"
   },
   "outputs": [],
   "source": [
    "encoder = CenternetEncoder(input_height, input_width)\n",
    "\n",
    "transform = transforms.Compose(\n",
    "    [transforms.Resize(size=(input_width, input_height)), transforms.ToTensor()]\n",
    ")\n",
    "\n",
    "torch_dataset = DatasetIterator(\n",
    "    dataset=dataset_val, transformer=transform, encoder=encoder\n",
    ")"
   ]
  },
  {
   "cell_type": "code",
   "execution_count": null,
   "id": "ba97f566",
   "metadata": {
    "colab": {
     "base_uri": "https://localhost:8080/"
    },
    "executionInfo": {
     "elapsed": 6,
     "status": "ok",
     "timestamp": 1721401367312,
     "user": {
      "displayName": "Vitaliy Bulygin",
      "userId": "12051646707039759689"
     },
     "user_tz": -180
    },
    "id": "ba97f566",
    "outputId": "7fb94e9b-d1db-4fcb-ea50-0cd97d2b9fb8"
   },
   "outputs": [],
   "source": [
    "img_, lbl_encoded = torch_dataset[30]\n",
    "img_.shape, lbl_encoded.numpy().shape"
   ]
  },
  {
   "cell_type": "code",
   "execution_count": null,
   "id": "451bca3a",
   "metadata": {},
   "outputs": [],
   "source": [
    "plt.imshow(img_.numpy().transpose(1, 2, 0))"
   ]
  },
  {
   "cell_type": "code",
   "execution_count": null,
   "id": "578474ea",
   "metadata": {},
   "outputs": [],
   "source": [
    "plt.imshow(lbl_encoded.numpy()[:, :, 7])"
   ]
  },
  {
   "cell_type": "markdown",
   "id": "448faaaf",
   "metadata": {},
   "source": [
    "### Prepare for Training"
   ]
  },
  {
   "cell_type": "code",
   "execution_count": null,
   "id": "d3d18c75",
   "metadata": {
    "executionInfo": {
     "elapsed": 5,
     "status": "ok",
     "timestamp": 1721401367312,
     "user": {
      "displayName": "Vitaliy Bulygin",
      "userId": "12051646707039759689"
     },
     "user_tz": -180
    },
    "id": "d3d18c75"
   },
   "outputs": [],
   "source": [
    "batch_generator = torch.utils.data.DataLoader(\n",
    "    torch_dataset, batch_size=4, num_workers=0, shuffle=False\n",
    ")"
   ]
  },
  {
   "cell_type": "code",
   "execution_count": null,
   "id": "3f4133db",
   "metadata": {
    "colab": {
     "base_uri": "https://localhost:8080/"
    },
    "executionInfo": {
     "elapsed": 3,
     "status": "ok",
     "timestamp": 1721401416157,
     "user": {
      "displayName": "Vitaliy Bulygin",
      "userId": "12051646707039759689"
     },
     "user_tz": -180
    },
    "id": "3f4133db",
    "outputId": "211b9778-adf7-4b63-fbb2-e43a060b4656",
    "scrolled": true
   },
   "outputs": [],
   "source": [
    "device = torch.device(\"cuda\" if torch.cuda.is_available() else \"cpu\")\n",
    "model = ModelBuilder(input_width, input_height, alpha=0.25).to(device)\n",
    "summary(model, input_size=(3, 256, 256), batch_size=-1)"
   ]
  },
  {
   "cell_type": "code",
   "execution_count": null,
   "id": "e25f2392",
   "metadata": {
    "executionInfo": {
     "elapsed": 3,
     "status": "ok",
     "timestamp": 1721401416158,
     "user": {
      "displayName": "Vitaliy Bulygin",
      "userId": "12051646707039759689"
     },
     "user_tz": -180
    },
    "id": "e25f2392"
   },
   "outputs": [],
   "source": [
    "lr = 0.01\n",
    "parameters = list(model.parameters())\n",
    "optimizer = torch.optim.Adam(parameters, lr=lr)"
   ]
  },
  {
   "cell_type": "code",
   "execution_count": null,
   "id": "76088d1d",
   "metadata": {},
   "outputs": [],
   "source": [
    "loss_history = []"
   ]
  },
  {
   "cell_type": "code",
   "execution_count": null,
   "id": "c2a4cd8b",
   "metadata": {},
   "outputs": [],
   "source": [
    "# WARNING !!! Optionally can be uncommented and run after first 1500 epochs.\n",
    "# EPOCHS should be changed to 500 in order to reach overfit\n",
    "# (loss should be between 0 and 1)\n",
    "\n",
    "# for g in optimizer.param_groups:\n",
    "#     g[\"lr\"] = 0.001"
   ]
  },
  {
   "cell_type": "markdown",
   "id": "c0df275a",
   "metadata": {},
   "source": [
    "### Train model"
   ]
  },
  {
   "cell_type": "code",
   "execution_count": null,
   "id": "s1hNE-ybhFbj",
   "metadata": {
    "colab": {
     "base_uri": "https://localhost:8080/"
    },
    "executionInfo": {
     "elapsed": 2105094,
     "status": "ok",
     "timestamp": 1721403753939,
     "user": {
      "displayName": "Vitaliy Bulygin",
      "userId": "12051646707039759689"
     },
     "user_tz": -180
    },
    "id": "s1hNE-ybhFbj",
    "outputId": "69a9d47e-a9d6-47ab-f3d7-ae7eef9c8ebc"
   },
   "outputs": [],
   "source": [
    "EPOCHS = 300\n",
    "model.train(True)\n",
    "\n",
    "for epoch in range(EPOCHS):\n",
    "    print(\"EPOCH {}:\".format(epoch + 1))\n",
    "    for i, data in enumerate(batch_generator):\n",
    "        img, gt_data = data\n",
    "        img = img.to(device).contiguous()\n",
    "\n",
    "        gt_data = gt_data.to(device)\n",
    "        gt_data.requires_grad = False\n",
    "\n",
    "        loss_dict = model(img, gt=gt_data)\n",
    "        optimizer.zero_grad()  # compute gradient and do optimize step\n",
    "        loss_dict[\"loss\"].backward()\n",
    "\n",
    "        optimizer.step()\n",
    "\n",
    "    loss_history.append(loss_dict[\"loss\"].cpu().detach().numpy())\n",
    "    print(loss_dict[\"loss\"])"
   ]
  },
  {
   "cell_type": "code",
   "execution_count": null,
   "id": "c95eba94",
   "metadata": {},
   "outputs": [],
   "source": [
    "plt.plot(np.log(loss_history))"
   ]
  },
  {
   "cell_type": "markdown",
   "id": "1396cb51",
   "metadata": {},
   "source": [
    "### Check training results"
   ]
  },
  {
   "cell_type": "code",
   "execution_count": null,
   "id": "5f60123b",
   "metadata": {},
   "outputs": [],
   "source": [
    "model.eval()"
   ]
  },
  {
   "cell_type": "code",
   "execution_count": null,
   "id": "366a95b7",
   "metadata": {},
   "outputs": [],
   "source": [
    "img, lbl = dataset_val[4]\n",
    "image_with_boxes = get_image_with_bboxes(img, lbl[\"boxes\"], lbl[\"labels\"])\n",
    "plt.imshow(image_with_boxes)"
   ]
  },
  {
   "cell_type": "code",
   "execution_count": null,
   "id": "81a83ee7",
   "metadata": {},
   "outputs": [],
   "source": [
    "lbl[\"labels\"]"
   ]
  },
  {
   "cell_type": "code",
   "execution_count": null,
   "id": "5d65210d",
   "metadata": {},
   "outputs": [],
   "source": [
    "pred_input = transform(img)\n",
    "plt.imshow(pred_input.numpy().transpose(1, 2, 0))"
   ]
  },
  {
   "cell_type": "code",
   "execution_count": null,
   "id": "ae2ac391",
   "metadata": {},
   "outputs": [],
   "source": [
    "reshaped = torch.reshape(pred_input, [1, 3, 256, 256])\n",
    "pred = model.forward(reshaped.to(device)).cpu().detach().numpy()\n",
    "pred.shape"
   ]
  },
  {
   "cell_type": "code",
   "execution_count": null,
   "id": "b834b1f5",
   "metadata": {},
   "outputs": [],
   "source": [
    "for i in range(20):\n",
    "    print(np.max(pred[0, i, :, :]))"
   ]
  },
  {
   "cell_type": "code",
   "execution_count": null,
   "id": "8d03841e",
   "metadata": {},
   "outputs": [],
   "source": [
    "# TODO: take 4 channels (distance from image borders), show bounding boxes"
   ]
  },
  {
   "cell_type": "code",
   "execution_count": null,
   "id": "d7021061",
   "metadata": {},
   "outputs": [],
   "source": [
    "plt.imshow(pred[0, 8, ...])"
   ]
  },
  {
   "cell_type": "markdown",
   "id": "f3038846",
   "metadata": {},
   "source": [
    "### Save model weights"
   ]
  },
  {
   "cell_type": "code",
   "execution_count": null,
   "id": "6857ea81",
   "metadata": {},
   "outputs": [],
   "source": [
    "torch.save(model, \"pascal_voc_30img.pt\")"
   ]
  },
  {
   "cell_type": "code",
   "execution_count": null,
   "id": "cc87c42d",
   "metadata": {},
   "outputs": [],
   "source": [
    "torch.save(model.state_dict(), \"pascal_voc_30img_state_dict.pt\")"
   ]
  },
  {
   "cell_type": "code",
   "execution_count": null,
   "id": "ed6da84f",
   "metadata": {},
   "outputs": [],
   "source": [
    "model.load_state_dict(torch.load(\"pascal_voc_30img_state_dict.pt\", weights_only=True))"
   ]
  },
  {
   "cell_type": "markdown",
   "id": "3ca5c5b0",
   "metadata": {},
   "source": [
    "### Draw bounding boxes based on model prediction"
   ]
  }
 ],
 "metadata": {
  "accelerator": "GPU",
  "colab": {
   "gpuType": "T4",
   "provenance": []
  },
  "kernelspec": {
   "display_name": "ml-course",
   "language": "python",
   "name": "python3"
  },
  "language_info": {
   "codemirror_mode": {
    "name": "ipython",
    "version": 3
   },
   "file_extension": ".py",
   "mimetype": "text/x-python",
   "name": "python",
   "nbconvert_exporter": "python",
   "pygments_lexer": "ipython3",
   "version": "3.10.7"
  }
 },
 "nbformat": 4,
 "nbformat_minor": 5
}
