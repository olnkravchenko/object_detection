{
 "cells": [
  {
   "cell_type": "code",
   "execution_count": null,
   "id": "db14077e",
   "metadata": {
    "ExecuteTime": {
     "end_time": "2024-11-19T15:28:05.315581Z",
     "start_time": "2024-11-19T15:28:03.810225Z"
    },
    "colab": {
     "base_uri": "https://localhost:8080/"
    },
    "executionInfo": {
     "elapsed": 10406,
     "status": "ok",
     "timestamp": 1721401307695,
     "user": {
      "displayName": "Vitaliy Bulygin",
      "userId": "12051646707039759689"
     },
     "user_tz": -180
    },
    "id": "db14077e",
    "outputId": "6e1b8c86-9a66-4b1c-f3af-79043d979747"
   },
   "outputs": [],
   "source": [
    "import torchvision\n",
    "import numpy as np\n",
    "from torch.utils import data\n",
    "from matplotlib import pyplot as plt\n",
    "import cv2\n",
    "import torchvision.transforms.v2 as transforms\n",
    "from collections import defaultdict\n",
    "import PIL\n",
    "import torch\n",
    "from torch.utils import data\n",
    "import torch.nn as nn\n",
    "from torchsummary import summary\n",
    "from collections import OrderedDict\n",
    "import torch.nn.functional as F\n",
    "from core.loss_functions import CenternetTTFLoss\n",
    "from datasets.encoders import CenternetEncoder\n",
    "from utils.visualizer import get_image_with_bboxes\n",
    "\n",
    "%load_ext autoreload\n",
    "%autoreload 2\n",
    "\n",
    "print(\"GPU is available: \", torch.cuda.is_available() )"
   ]
  },
  {
   "cell_type": "code",
   "execution_count": null,
   "id": "5GfETpZOg3BV",
   "metadata": {
    "ExecuteTime": {
     "end_time": "2024-11-19T15:23:43.146549Z",
     "start_time": "2024-11-19T15:23:43.103574Z"
    },
    "executionInfo": {
     "elapsed": 2,
     "status": "ok",
     "timestamp": 1721401307695,
     "user": {
      "displayName": "Vitaliy Bulygin",
      "userId": "12051646707039759689"
     },
     "user_tz": -180
    },
    "id": "5GfETpZOg3BV"
   },
   "outputs": [],
   "source": [
    "input_height = input_width = 256\n",
    "down_ratio = 4  # model output compared to model input"
   ]
  },
  {
   "cell_type": "code",
   "execution_count": null,
   "id": "2107803b",
   "metadata": {
    "ExecuteTime": {
     "end_time": "2024-11-19T15:26:57.769628Z",
     "start_time": "2024-11-19T15:23:58.650841Z"
    },
    "colab": {
     "base_uri": "https://localhost:8080/"
    },
    "executionInfo": {
     "elapsed": 2570,
     "status": "ok",
     "timestamp": 1721401310263,
     "user": {
      "displayName": "Vitaliy Bulygin",
      "userId": "12051646707039759689"
     },
     "user_tz": -180
    },
    "id": "2107803b",
    "outputId": "83dfd4f9-c621-4d30-8eb4-89acc6818b36"
   },
   "outputs": [],
   "source": [
    "dataset_val = torchvision.datasets.VOCDetection(\n",
    "    root=\"~/projects/VOC\", year=\"2007\", image_set=\"val\", download=False\n",
    ")\n",
    "\n",
    "\n",
    "dataset_val = torchvision.datasets.wrap_dataset_for_transforms_v2(dataset_val)\n",
    "\n",
    "\n",
    "print(len(dataset_val))"
   ]
  },
  {
   "cell_type": "code",
   "execution_count": null,
   "id": "nZ3Ik7-anz5H",
   "metadata": {
    "colab": {
     "base_uri": "https://localhost:8080/"
    },
    "executionInfo": {
     "elapsed": 52901,
     "status": "ok",
     "timestamp": 1721401363163,
     "user": {
      "displayName": "Vitaliy Bulygin",
      "userId": "12051646707039759689"
     },
     "user_tz": -180
    },
    "id": "nZ3Ik7-anz5H",
    "outputId": "5f853ff9-c481-4776-987d-e0c59d1f9eb6"
   },
   "outputs": [],
   "source": [
    "img, lbl = dataset_val[2000]\n",
    "img, lbl"
   ]
  },
  {
   "cell_type": "code",
   "execution_count": null,
   "id": "7002436d",
   "metadata": {
    "colab": {
     "base_uri": "https://localhost:8080/",
     "height": 452
    },
    "executionInfo": {
     "elapsed": 2412,
     "status": "ok",
     "timestamp": 1721401365573,
     "user": {
      "displayName": "Vitaliy Bulygin",
      "userId": "12051646707039759689"
     },
     "user_tz": -180
    },
    "id": "7002436d",
    "outputId": "a625aa0d-0214-4d0f-e190-dd1725d7b9a9"
   },
   "outputs": [],
   "source": [
    "image_with_boxes = get_image_with_bboxes(img, lbl[\"boxes\"], lbl[\"labels\"])\n",
    "plt.imshow(image_with_boxes)"
   ]
  },
  {
   "cell_type": "code",
   "execution_count": null,
   "id": "a8c6d2eb",
   "metadata": {
    "executionInfo": {
     "elapsed": 4,
     "status": "ok",
     "timestamp": 1721401365573,
     "user": {
      "displayName": "Vitaliy Bulygin",
      "userId": "12051646707039759689"
     },
     "user_tz": -180
    },
    "id": "a8c6d2eb"
   },
   "outputs": [],
   "source": [
    "transform = transforms.Compose(\n",
    "    [\n",
    "        # transforms.RandomHorizontalFlip(p=0.5),\n",
    "        transforms.Resize(size=(input_width, input_height)),\n",
    "    ]\n",
    ")\n",
    "\n",
    "\n",
    "img, bboxes, labels = transform(img, lbl[\"boxes\"], lbl[\"labels\"])"
   ]
  },
  {
   "cell_type": "code",
   "execution_count": null,
   "id": "Bf_qv0gylXQA",
   "metadata": {
    "colab": {
     "base_uri": "https://localhost:8080/",
     "height": 467
    },
    "executionInfo": {
     "elapsed": 1741,
     "status": "ok",
     "timestamp": 1721401367311,
     "user": {
      "displayName": "Vitaliy Bulygin",
      "userId": "12051646707039759689"
     },
     "user_tz": -180
    },
    "id": "Bf_qv0gylXQA",
    "outputId": "ce68cb23-22bb-4c70-cfef-641782e6f373"
   },
   "outputs": [],
   "source": [
    "encoder = CenternetEncoder(input_height, input_width)\n",
    "lbl_encoded = encoder.encode(bboxes, labels)\n",
    "plt.imshow(lbl_encoded[..., 2])"
   ]
  },
  {
   "cell_type": "code",
   "execution_count": null,
   "id": "SpHpfnT0noRE",
   "metadata": {
    "colab": {
     "base_uri": "https://localhost:8080/",
     "height": 452
    },
    "executionInfo": {
     "elapsed": 10,
     "status": "ok",
     "timestamp": 1721401367312,
     "user": {
      "displayName": "Vitaliy Bulygin",
      "userId": "12051646707039759689"
     },
     "user_tz": -180
    },
    "id": "SpHpfnT0noRE",
    "outputId": "eb6cfe9a-4ab5-4b59-eeec-1e8d19666384"
   },
   "outputs": [],
   "source": [
    "image_with_boxes = get_image_with_bboxes(img, bboxes, labels)\n",
    "plt.imshow(image_with_boxes)"
   ]
  },
  {
   "cell_type": "code",
   "execution_count": null,
   "id": "M9QC40oeuvEO",
   "metadata": {
    "colab": {
     "base_uri": "https://localhost:8080/"
    },
    "executionInfo": {
     "elapsed": 8,
     "status": "ok",
     "timestamp": 1721401367312,
     "user": {
      "displayName": "Vitaliy Bulygin",
      "userId": "12051646707039759689"
     },
     "user_tz": -180
    },
    "id": "M9QC40oeuvEO",
    "outputId": "b369a05a-ec48-4615-b07b-f2300fe5ebfa"
   },
   "outputs": [],
   "source": [
    "hm_chosen = lbl_encoded[..., 8]\n",
    "\n",
    "ind_max = np.argwhere(hm_chosen == np.amax(hm_chosen))\n",
    "for ind in ind_max:\n",
    "    print(\"rect center:\", ind * 4)\n",
    "    print(\"coors\", lbl_encoded[..., 20:][ind[0], ind[1]])\n",
    "    print()"
   ]
  },
  {
   "cell_type": "code",
   "execution_count": null,
   "id": "e6a7dcab",
   "metadata": {
    "colab": {
     "base_uri": "https://localhost:8080/"
    },
    "executionInfo": {
     "elapsed": 7,
     "status": "ok",
     "timestamp": 1721401367312,
     "user": {
      "displayName": "Vitaliy Bulygin",
      "userId": "12051646707039759689"
     },
     "user_tz": -180
    },
    "id": "e6a7dcab",
    "outputId": "87542e1f-238f-48d8-90f0-eb54a00fedb1"
   },
   "outputs": [],
   "source": [
    "from torch.utils import data\n",
    "\n",
    "\n",
    "class Dataset(data.Dataset):\n",
    "\n",
    "    def __init__(self, dataset, transformation, encoder):\n",
    "        self._dataset = dataset\n",
    "        self._transformation = transformation\n",
    "        self._encoder = encoder\n",
    "\n",
    "    def __getitem__(self, index):\n",
    "\n",
    "        img, lbl = self._dataset[index % 32]\n",
    "\n",
    "        img_, bboxes_, labels_ = self._transformation(\n",
    "            img, lbl[\"boxes\"], lbl[\"labels\"]\n",
    "        )\n",
    "\n",
    "        lbl_encoded = self._encoder.encode(bboxes_, labels_)\n",
    "\n",
    "        return img_, torch.from_numpy(lbl_encoded)\n",
    "\n",
    "    def __len__(self):\n",
    "        return 32\n",
    "        # return len(self._dataset)\n",
    "\n",
    "\n",
    "encoder = CenternetEncoder(input_height, input_width)\n",
    "\n",
    "\n",
    "transform = transforms.Compose(\n",
    "    [transforms.Resize(size=(input_width, input_height)), transforms.ToTensor()]\n",
    ")\n",
    "\n",
    "\n",
    "torch_dataset = Dataset(\n",
    "    dataset=dataset_val, transformation=transform, encoder=encoder\n",
    ")"
   ]
  },
  {
   "cell_type": "code",
   "execution_count": null,
   "id": "c9fdd485",
   "metadata": {},
   "outputs": [],
   "source": []
  },
  {
   "cell_type": "code",
   "execution_count": null,
   "id": "ba97f566",
   "metadata": {
    "colab": {
     "base_uri": "https://localhost:8080/"
    },
    "executionInfo": {
     "elapsed": 6,
     "status": "ok",
     "timestamp": 1721401367312,
     "user": {
      "displayName": "Vitaliy Bulygin",
      "userId": "12051646707039759689"
     },
     "user_tz": -180
    },
    "id": "ba97f566",
    "outputId": "7fb94e9b-d1db-4fcb-ea50-0cd97d2b9fb8"
   },
   "outputs": [],
   "source": [
    "img_, lbl_encoded = torch_dataset[30]\n",
    "img_.shape, lbl_encoded.numpy().shape"
   ]
  },
  {
   "cell_type": "code",
   "execution_count": null,
   "id": "451bca3a",
   "metadata": {},
   "outputs": [],
   "source": [
    "plt.imshow(img_.numpy().transpose(1, 2, 0))"
   ]
  },
  {
   "cell_type": "code",
   "execution_count": null,
   "id": "578474ea",
   "metadata": {},
   "outputs": [],
   "source": [
    "plt.imshow(lbl_encoded.numpy()[:, :, 7])"
   ]
  },
  {
   "cell_type": "code",
   "execution_count": null,
   "id": "d3d18c75",
   "metadata": {
    "executionInfo": {
     "elapsed": 5,
     "status": "ok",
     "timestamp": 1721401367312,
     "user": {
      "displayName": "Vitaliy Bulygin",
      "userId": "12051646707039759689"
     },
     "user_tz": -180
    },
    "id": "d3d18c75"
   },
   "outputs": [],
   "source": [
    "batch_generator = torch.utils.data.DataLoader(\n",
    "    torch_dataset, batch_size=4, num_workers=0, shuffle=False\n",
    ")"
   ]
  },
  {
   "cell_type": "code",
   "execution_count": null,
   "id": "c9b21401",
   "metadata": {},
   "outputs": [],
   "source": [
    "iter_batch = iter(batch_generator)\n",
    "img, gt_data = next(iter_batch)"
   ]
  },
  {
   "cell_type": "code",
   "execution_count": null,
   "id": "r3aVOUOb6Phe",
   "metadata": {
    "colab": {
     "base_uri": "https://localhost:8080/"
    },
    "executionInfo": {
     "elapsed": 46412,
     "status": "ok",
     "timestamp": 1721401413719,
     "user": {
      "displayName": "Vitaliy Bulygin",
      "userId": "12051646707039759689"
     },
     "user_tz": -180
    },
    "id": "r3aVOUOb6Phe",
    "outputId": "c50f07d6-2e9a-4956-88f8-8c0fb1bb37ed"
   },
   "outputs": [],
   "source": [
    "torch.min(gt_data), torch.max(gt_data)"
   ]
  },
  {
   "cell_type": "code",
   "execution_count": null,
   "id": "HftnHFFXRBkE",
   "metadata": {
    "colab": {
     "base_uri": "https://localhost:8080/",
     "height": 452
    },
    "executionInfo": {
     "elapsed": 1819,
     "status": "ok",
     "timestamp": 1721401415534,
     "user": {
      "displayName": "Vitaliy Bulygin",
      "userId": "12051646707039759689"
     },
     "user_tz": -180
    },
    "id": "HftnHFFXRBkE",
    "outputId": "bd9895ca-c564-4193-ceca-1405f1815cfe"
   },
   "outputs": [],
   "source": []
  },
  {
   "cell_type": "code",
   "execution_count": null,
   "id": "TypoLyCJS1u6",
   "metadata": {
    "colab": {
     "base_uri": "https://localhost:8080/",
     "height": 449
    },
    "executionInfo": {
     "elapsed": 10,
     "status": "ok",
     "timestamp": 1721401415534,
     "user": {
      "displayName": "Vitaliy Bulygin",
      "userId": "12051646707039759689"
     },
     "user_tz": -180
    },
    "id": "TypoLyCJS1u6",
    "outputId": "10d361c6-dfce-4995-e9fd-979c17bb523a"
   },
   "outputs": [],
   "source": [
    "plt.imshow(gt_data[0].data.numpy().sum(axis=2))"
   ]
  },
  {
   "cell_type": "code",
   "execution_count": null,
   "id": "39878152",
   "metadata": {
    "executionInfo": {
     "elapsed": 8,
     "status": "ok",
     "timestamp": 1721401415534,
     "user": {
      "displayName": "Vitaliy Bulygin",
      "userId": "12051646707039759689"
     },
     "user_tz": -180
    },
    "id": "39878152"
   },
   "outputs": [],
   "source": [
    "class Backbone(nn.Module):\n",
    "    def __init__(self, alpha=1.0):\n",
    "        super().__init__()\n",
    "        self.block_num = 1\n",
    "        self.alpha = alpha\n",
    "        self.filters = np.array(\n",
    "            [\n",
    "                64 * self.alpha,\n",
    "                128 * self.alpha,\n",
    "                256 * self.alpha,\n",
    "                512 * self.alpha,\n",
    "                512 * self.alpha,\n",
    "            ]\n",
    "        ).astype(\"int\")\n",
    "        s = self.filters\n",
    "        self.layer1 = self.conv_bn_relu(3, s[0], False)\n",
    "        self.layer2 = self.conv_bn_relu(s[0], s[0], True)  # stride 2\n",
    "        self.layer3 = self.conv_bn_relu(s[0], s[1], False)\n",
    "        self.layer4 = self.conv_bn_relu(s[1], s[1], True)  # stride 4\n",
    "        self.layer5 = self.conv_bn_relu(s[1], s[2], False)\n",
    "        self.layer6 = self.conv_bn_relu(s[2], s[2], False)\n",
    "        self.layer7 = self.conv_bn_relu(s[2], s[2], True)  # stride 8\n",
    "        self.layer8 = self.conv_bn_relu(s[2], s[3], False)\n",
    "        self.layer9 = self.conv_bn_relu(s[3], s[3], False)\n",
    "        self.layer10 = self.conv_bn_relu(s[3], s[3], True)  # stride 16\n",
    "        self.layer11 = self.conv_bn_relu(s[4], s[4], False)\n",
    "        self.layer12 = self.conv_bn_relu(s[4], s[4], False)\n",
    "        self.layer13 = self.conv_bn_relu(s[4], s[4], True)  # stride 32\n",
    "\n",
    "    def conv_bn_relu(\n",
    "        self, input_num, output_num, max_pool=False, kernel_size=3\n",
    "    ):\n",
    "        block = OrderedDict()\n",
    "        block[\"conv_\" + str(self.block_num)] = nn.Conv2d(\n",
    "            input_num, output_num, kernel_size=kernel_size, stride=1, padding=1\n",
    "        )\n",
    "        block[\"bn_\" + str(self.block_num)] = nn.BatchNorm2d(\n",
    "            output_num, eps=1e-3, momentum=0.01\n",
    "        )\n",
    "        block[\"relu_\" + str(self.block_num)] = nn.ReLU()\n",
    "        if max_pool:\n",
    "            block[\"pool_\" + str(self.block_num)] = nn.MaxPool2d(\n",
    "                kernel_size=2, stride=2\n",
    "            )\n",
    "        self.block_num += 1\n",
    "        return nn.Sequential(block)\n",
    "\n",
    "    def forward(self, x):\n",
    "        out = self.layer1(x)\n",
    "        out_stride_2 = self.layer2(out)\n",
    "        out = self.layer3(out_stride_2)\n",
    "        out_stride_4 = self.layer4(out)\n",
    "        out = self.layer5(out_stride_4)\n",
    "        out = self.layer6(out)\n",
    "        out_stride_8 = self.layer7(out)\n",
    "        out = self.layer8(out_stride_8)\n",
    "        out = self.layer9(out)\n",
    "        out_stride_16 = self.layer10(out)\n",
    "        out = self.layer11(out_stride_16)\n",
    "        out = self.layer12(out)\n",
    "        out_stride_32 = self.layer13(out)\n",
    "        return (\n",
    "            out_stride_2,\n",
    "            out_stride_4,\n",
    "            out_stride_8,\n",
    "            out_stride_16,\n",
    "            out_stride_32,\n",
    "        )"
   ]
  },
  {
   "cell_type": "code",
   "execution_count": null,
   "id": "4791b60f",
   "metadata": {
    "executionInfo": {
     "elapsed": 9,
     "status": "ok",
     "timestamp": 1721401415535,
     "user": {
      "displayName": "Vitaliy Bulygin",
      "userId": "12051646707039759689"
     },
     "user_tz": -180
    },
    "id": "4791b60f",
    "scrolled": true
   },
   "outputs": [],
   "source": [
    "class Head(nn.Module):\n",
    "    def __init__(self, backbone_output_filters, class_number=20):\n",
    "        super().__init__()\n",
    "        self.connection_num = 3\n",
    "        self.class_number = class_number\n",
    "        self.backbone_output_filters = backbone_output_filters\n",
    "        self.filters = [128, 64, 32]\n",
    "        head_filters = [self.backbone_output_filters[-1]] + self.filters\n",
    "\n",
    "        for i, filter_num in enumerate(self.filters):\n",
    "            name = f\"head_{i+1}\"\n",
    "            setattr(\n",
    "                self,\n",
    "                name,\n",
    "                self.conv_bn_relu(name, head_filters[i], head_filters[i + 1]),\n",
    "            )\n",
    "            # create connection with backbone\n",
    "            if i < self.connection_num:\n",
    "                name = f\"after_{-2-i}\"\n",
    "                setattr(\n",
    "                    self,\n",
    "                    name,\n",
    "                    self.conv_bn_relu(\n",
    "                        name,\n",
    "                        self.backbone_output_filters[-2 - i],\n",
    "                        self.filters[i],\n",
    "                        1,\n",
    "                    ),\n",
    "                )\n",
    "\n",
    "        self.before_hm = self.conv_bn_relu(\n",
    "            \"before_hm\", self.filters[-1], self.filters[-1]\n",
    "        )\n",
    "        self.before_sizes = self.conv_bn_relu(\n",
    "            \"before_sizes\", self.filters[-1], self.filters[-1]\n",
    "        )\n",
    "\n",
    "        self.hm = self.conv_bn_relu(\n",
    "            \"hm\", self.filters[-1], self.class_number, 3, \"sigmoid\"\n",
    "        )\n",
    "        self.sizes = self.conv_bn_relu(\"hm\", self.filters[-1], 4, 3, None)\n",
    "\n",
    "    def conv_bn_relu(\n",
    "        self, name, input_num, output_num, kernel_size=3, activation=\"relu\"\n",
    "    ):\n",
    "        block = OrderedDict()\n",
    "        padding = 1 if kernel_size == 3 else 0\n",
    "        block[\"conv_\" + name] = nn.Conv2d(\n",
    "            input_num,\n",
    "            output_num,\n",
    "            kernel_size=kernel_size,\n",
    "            stride=1,\n",
    "            padding=padding,\n",
    "        )\n",
    "        block[\"bn_\" + name] = nn.BatchNorm2d(\n",
    "            output_num, eps=1e-3, momentum=0.01\n",
    "        )\n",
    "        if activation == \"relu\":\n",
    "            block[\"relu_\" + name] = nn.ReLU()\n",
    "        elif activation == \"sigmoid\":\n",
    "            block[\"sigmoid_\" + name] = nn.Sigmoid()\n",
    "        return nn.Sequential(block)\n",
    "\n",
    "    def connect_with_backbone(self, *backbone_out):\n",
    "        used_out = [backbone_out[-i - 2] for i in range(self.connection_num)]\n",
    "        x = backbone_out[-1]\n",
    "        for i in range(len(self.filters)):\n",
    "            x = getattr(self, \"head_{}\".format(i + 1))(x)\n",
    "            x = F.interpolate(x, scale_factor=2, mode=\"nearest\")\n",
    "            if i < self.connection_num:\n",
    "                name = f\"after_{-2-i}\"\n",
    "                x_ = getattr(self, name)(used_out[i])\n",
    "                x = torch.add(x, x_)\n",
    "        return x\n",
    "\n",
    "    def forward(self, *backbone_out):\n",
    "        self.last_shared_layer = self.connect_with_backbone(self, *backbone_out)\n",
    "        x = self.before_hm(self.last_shared_layer)\n",
    "        hm_out = self.hm(x)\n",
    "\n",
    "        x = self.before_sizes(self.last_shared_layer)\n",
    "        sizes_out = self.sizes(x)\n",
    "\n",
    "        x = torch.cat((hm_out, sizes_out), dim=1)\n",
    "        return x"
   ]
  },
  {
   "cell_type": "code",
   "execution_count": null,
   "id": "a16c11fd",
   "metadata": {
    "executionInfo": {
     "elapsed": 9,
     "status": "ok",
     "timestamp": 1721401415535,
     "user": {
      "displayName": "Vitaliy Bulygin",
      "userId": "12051646707039759689"
     },
     "user_tz": -180
    },
    "id": "a16c11fd"
   },
   "outputs": [],
   "source": [
    "class ModelBuilder(nn.Module):\n",
    "    \"\"\"\n",
    "    To connect head with backbone\n",
    "    \"\"\"\n",
    "\n",
    "    def __init__(self, alpha=1.0, class_number=20):\n",
    "        super().__init__()\n",
    "        self.class_number = class_number\n",
    "        self.backbone = Backbone(alpha)\n",
    "        self.head = Head(\n",
    "            backbone_output_filters=self.backbone.filters,\n",
    "            class_number=class_number,\n",
    "        )\n",
    "        self.loss = CenternetTTFLoss(\n",
    "            class_number, 4, input_height // 4, input_width // 4\n",
    "        )\n",
    "\n",
    "    def forward(self, x, gt=None):\n",
    "        x = x / 0.5 - 1.0  # normalization\n",
    "        out = self.backbone(x)\n",
    "        pred = self.head(*out)\n",
    "\n",
    "        if gt is None:\n",
    "            return pred\n",
    "        else:\n",
    "            loss = self.loss(gt, pred)\n",
    "            return loss"
   ]
  },
  {
   "cell_type": "markdown",
   "id": "ljPtkTEbNetQ",
   "metadata": {
    "id": "ljPtkTEbNetQ"
   },
   "source": []
  },
  {
   "cell_type": "code",
   "execution_count": null,
   "id": "3f4133db",
   "metadata": {
    "colab": {
     "base_uri": "https://localhost:8080/"
    },
    "executionInfo": {
     "elapsed": 3,
     "status": "ok",
     "timestamp": 1721401416157,
     "user": {
      "displayName": "Vitaliy Bulygin",
      "userId": "12051646707039759689"
     },
     "user_tz": -180
    },
    "id": "3f4133db",
    "outputId": "211b9778-adf7-4b63-fbb2-e43a060b4656",
    "scrolled": true
   },
   "outputs": [],
   "source": [
    "device = torch.device(\"cuda\" if torch.cuda.is_available() else \"cpu\")\n",
    "model = ModelBuilder(alpha=0.25).to(device)\n",
    "summary(model, input_size=(3, 256, 256), batch_size=-1)"
   ]
  },
  {
   "cell_type": "code",
   "execution_count": null,
   "id": "e25f2392",
   "metadata": {
    "executionInfo": {
     "elapsed": 3,
     "status": "ok",
     "timestamp": 1721401416158,
     "user": {
      "displayName": "Vitaliy Bulygin",
      "userId": "12051646707039759689"
     },
     "user_tz": -180
    },
    "id": "e25f2392"
   },
   "outputs": [],
   "source": [
    "lr = 0.01\n",
    "parameters = list(model.parameters())\n",
    "optimizer = torch.optim.Adam(parameters, lr=lr)"
   ]
  },
  {
   "cell_type": "code",
   "execution_count": null,
   "id": "76088d1d",
   "metadata": {},
   "outputs": [],
   "source": [
    "loss_history = []"
   ]
  },
  {
   "cell_type": "code",
   "execution_count": null,
   "id": "c2a4cd8b",
   "metadata": {},
   "outputs": [],
   "source": [
    "for g in optimizer.param_groups:\n",
    "    g[\"lr\"] = 0.001"
   ]
  },
  {
   "cell_type": "code",
   "execution_count": null,
   "id": "s1hNE-ybhFbj",
   "metadata": {
    "colab": {
     "base_uri": "https://localhost:8080/"
    },
    "executionInfo": {
     "elapsed": 2105094,
     "status": "ok",
     "timestamp": 1721403753939,
     "user": {
      "displayName": "Vitaliy Bulygin",
      "userId": "12051646707039759689"
     },
     "user_tz": -180
    },
    "id": "s1hNE-ybhFbj",
    "outputId": "69a9d47e-a9d6-47ab-f3d7-ae7eef9c8ebc"
   },
   "outputs": [],
   "source": [
    "EPOCHS = 1500\n",
    "# model.eval()\n",
    "model.train(True)\n",
    "\n",
    "for epoch in range(EPOCHS):\n",
    "    print(\"EPOCH {}:\".format(epoch + 1))\n",
    "    for i, data in enumerate(batch_generator):\n",
    "        img, gt_data = data\n",
    "        img = img.to(device).contiguous()\n",
    "\n",
    "        gt_data = gt_data.to(device)\n",
    "        gt_data.requires_grad = False\n",
    "\n",
    "        loss_dict = model(img, gt=gt_data)\n",
    "        optimizer.zero_grad()  # compute gradient and do optimize step\n",
    "        loss_dict[\"loss\"].backward()\n",
    "\n",
    "        optimizer.step()\n",
    "\n",
    "    loss_history.append(loss_dict[\"loss\"].cpu().detach().numpy())\n",
    "    print(loss_dict[\"loss\"])"
   ]
  },
  {
   "cell_type": "code",
   "execution_count": null,
   "id": "2ea361d0",
   "metadata": {},
   "outputs": [],
   "source": [
    "len(loss_history)\n",
    "raw_loss = list(map(lambda x: x[\"loss\"].cpu().detach().numpy(), loss_history))"
   ]
  },
  {
   "cell_type": "code",
   "execution_count": null,
   "id": "c95eba94",
   "metadata": {},
   "outputs": [],
   "source": [
    "plt.plot(raw_loss)"
   ]
  },
  {
   "cell_type": "code",
   "execution_count": null,
   "id": "b0948f0b",
   "metadata": {},
   "outputs": [],
   "source": [
    "img, lbl = dataset_val[10]"
   ]
  },
  {
   "cell_type": "code",
   "execution_count": null,
   "id": "366a95b7",
   "metadata": {},
   "outputs": [],
   "source": [
    "image_with_boxes = get_image_with_bboxes(img, lbl[\"boxes\"], lbl[\"labels\"])\n",
    "plt.imshow(image_with_boxes)"
   ]
  },
  {
   "cell_type": "code",
   "execution_count": null,
   "id": "2baba07b",
   "metadata": {},
   "outputs": [],
   "source": [
    "lbl[\"labels\"]"
   ]
  },
  {
   "cell_type": "code",
   "execution_count": null,
   "id": "5f60123b",
   "metadata": {},
   "outputs": [],
   "source": [
    "model.eval()"
   ]
  },
  {
   "cell_type": "code",
   "execution_count": null,
   "id": "fb538ca6",
   "metadata": {},
   "outputs": [],
   "source": [
    "img.size"
   ]
  },
  {
   "cell_type": "code",
   "execution_count": null,
   "id": "5d65210d",
   "metadata": {},
   "outputs": [],
   "source": [
    "pred_input = transform(img)"
   ]
  },
  {
   "cell_type": "code",
   "execution_count": null,
   "id": "678ae30c",
   "metadata": {},
   "outputs": [],
   "source": [
    "plt.imshow(pred_input.numpy().transpose(1, 2, 0))"
   ]
  },
  {
   "cell_type": "code",
   "execution_count": null,
   "id": "ae2ac391",
   "metadata": {},
   "outputs": [],
   "source": [
    "reshaped = torch.reshape(pred_input, [1, 3, 256, 256])"
   ]
  },
  {
   "cell_type": "code",
   "execution_count": null,
   "id": "1e2b03ac",
   "metadata": {},
   "outputs": [],
   "source": [
    "pred = model.forward(reshaped.to(device))"
   ]
  },
  {
   "cell_type": "code",
   "execution_count": null,
   "id": "1f896d1c",
   "metadata": {},
   "outputs": [],
   "source": [
    "numpy_pred = pred.cpu().detach().numpy()"
   ]
  },
  {
   "cell_type": "code",
   "execution_count": null,
   "id": "53b707af",
   "metadata": {},
   "outputs": [],
   "source": [
    "numpy_pred.shape"
   ]
  },
  {
   "cell_type": "code",
   "execution_count": null,
   "id": "b834b1f5",
   "metadata": {},
   "outputs": [],
   "source": [
    "for i in range(20):\n",
    "    print(np.max(numpy_pred[0, i, :, :]))"
   ]
  },
  {
   "cell_type": "code",
   "execution_count": null,
   "id": "8d03841e",
   "metadata": {},
   "outputs": [],
   "source": [
    "# TODO: take 4 channels (distance from image borders), show bounding boxes"
   ]
  },
  {
   "cell_type": "code",
   "execution_count": null,
   "id": "d7021061",
   "metadata": {},
   "outputs": [],
   "source": [
    "plt.imshow(numpy_pred[0, 14, ...])"
   ]
  },
  {
   "cell_type": "code",
   "execution_count": null,
   "id": "6857ea81",
   "metadata": {},
   "outputs": [],
   "source": [
    "torch.save(model, \"pascal_voc_30img.pt\")"
   ]
  },
  {
   "cell_type": "code",
   "execution_count": null,
   "id": "cc87c42d",
   "metadata": {},
   "outputs": [],
   "source": [
    "torch.save(model.state_dict(), \"pascal_voc_30img_state_dict.pt\")"
   ]
  },
  {
   "cell_type": "code",
   "execution_count": null,
   "id": "ed6da84f",
   "metadata": {},
   "outputs": [],
   "source": [
    "model.load_state_dict(\n",
    "    torch.load(\"pascal_voc_30img_state_dict.pt\", weights_only=True)\n",
    ")"
   ]
  },
  {
   "cell_type": "code",
   "execution_count": null,
   "id": "730bd19f",
   "metadata": {},
   "outputs": [],
   "source": [
    "from core.postprocess import CenternetPostprocess"
   ]
  },
  {
   "cell_type": "code",
   "execution_count": null,
   "id": "c1826525",
   "metadata": {},
   "outputs": [],
   "source": [
    "pp = CenternetPostprocess()"
   ]
  }
 ],
 "metadata": {
  "accelerator": "GPU",
  "colab": {
   "gpuType": "T4",
   "provenance": []
  },
  "kernelspec": {
   "display_name": "ml-sdk",
   "language": "python",
   "name": "python3"
  },
  "language_info": {
   "codemirror_mode": {
    "name": "ipython",
    "version": 3
   },
   "file_extension": ".py",
   "mimetype": "text/x-python",
   "name": "python",
   "nbconvert_exporter": "python",
   "pygments_lexer": "ipython3",
   "version": "3.11.10"
  }
 },
 "nbformat": 4,
 "nbformat_minor": 5
}
