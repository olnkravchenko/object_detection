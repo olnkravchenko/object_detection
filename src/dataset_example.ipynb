{
 "cells": [
  {
   "cell_type": "code",
   "execution_count": null,
   "metadata": {},
   "outputs": [],
   "source": [
    "import torchvision\n",
    "from matplotlib import pyplot as plt\n",
    "import torchvision.transforms.v2 as transforms\n",
    "import torch\n",
    "from datasets.encoders import CenternetEncoder\n",
    "from datasets.dataset import DatasetIterator\n",
    "from utils.visualizer import get_image_with_bboxes\n",
    "\n",
    "%load_ext autoreload\n",
    "%autoreload 2\n",
    "\n",
    "print(\"GPU is available: \", torch.cuda.is_available() )"
   ]
  },
  {
   "cell_type": "code",
   "execution_count": null,
   "metadata": {},
   "outputs": [],
   "source": [
    "input_height = input_width = 256\n",
    "down_ratio = 4  # model output compared to model input"
   ]
  },
  {
   "cell_type": "code",
   "execution_count": null,
   "metadata": {},
   "outputs": [],
   "source": [
    "dataset_val = torchvision.datasets.VOCDetection(\n",
    "    root=\"VOC\", year=\"2007\", image_set=\"val\", download=False\n",
    ")\n",
    "dataset_val = torchvision.datasets.wrap_dataset_for_transforms_v2(dataset_val)\n",
    "print(len(dataset_val))"
   ]
  },
  {
   "cell_type": "code",
   "execution_count": null,
   "metadata": {},
   "outputs": [],
   "source": [
    "img, lbl = dataset_val[0]\n",
    "img, lbl"
   ]
  },
  {
   "cell_type": "code",
   "execution_count": null,
   "metadata": {},
   "outputs": [],
   "source": [
    "image_with_boxes = get_image_with_bboxes(img, lbl[\"boxes\"], lbl[\"labels\"])\n",
    "plt.imshow(image_with_boxes)"
   ]
  },
  {
   "cell_type": "code",
   "execution_count": null,
   "metadata": {},
   "outputs": [],
   "source": [
    "transform = transforms.Compose(\n",
    "    [\n",
    "        transforms.RandomHorizontalFlip(p=0.5),\n",
    "        transforms.Resize(size=(input_width, input_height)),\n",
    "    ]\n",
    ")\n",
    "img, bboxes, labels = transform(img, lbl[\"boxes\"], lbl[\"labels\"])"
   ]
  },
  {
   "cell_type": "code",
   "execution_count": null,
   "metadata": {},
   "outputs": [],
   "source": [
    "encoder = CenternetEncoder(input_height, input_width)\n",
    "lbl_encoded = encoder.encode(bboxes, labels)\n",
    "plt.imshow(lbl_encoded[..., 8])"
   ]
  },
  {
   "cell_type": "code",
   "execution_count": null,
   "metadata": {},
   "outputs": [],
   "source": [
    "image_with_boxes = get_image_with_bboxes(img, bboxes, labels)\n",
    "plt.imshow(image_with_boxes)"
   ]
  },
  {
   "cell_type": "code",
   "execution_count": null,
   "metadata": {},
   "outputs": [],
   "source": [
    "encoder = CenternetEncoder(input_height, input_width)\n",
    "transformations = transforms.Compose(\n",
    "    [transforms.Resize(size=(input_width, input_height)), transforms.ToTensor()]\n",
    ")\n",
    "torch_dataset = DatasetIterator(\n",
    "    dataset=dataset_val, transformer=transformations, encoder=encoder\n",
    ")"
   ]
  },
  {
   "cell_type": "code",
   "execution_count": null,
   "metadata": {},
   "outputs": [],
   "source": [
    "batch_generator = torch_dataset.get_examples(batch_size=24)"
   ]
  },
  {
   "cell_type": "code",
   "execution_count": null,
   "metadata": {},
   "outputs": [],
   "source": [
    "input, gt_data = next(iter(batch_generator))\n",
    "torch.min(input), torch.max(input)"
   ]
  }
 ],
 "metadata": {
  "kernelspec": {
   "display_name": "ml-sdk",
   "language": "python",
   "name": "python3"
  },
  "language_info": {
   "codemirror_mode": {
    "name": "ipython",
    "version": 3
   },
   "file_extension": ".py",
   "mimetype": "text/x-python",
   "name": "python",
   "nbconvert_exporter": "python",
   "pygments_lexer": "ipython3",
   "version": "3.11.10"
  }
 },
 "nbformat": 4,
 "nbformat_minor": 2
}
